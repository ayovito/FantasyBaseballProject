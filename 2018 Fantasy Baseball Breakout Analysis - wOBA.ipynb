{
 "cells": [
  {
   "cell_type": "code",
   "execution_count": 1,
   "metadata": {
    "collapsed": true
   },
   "outputs": [],
   "source": [
    "# let's try a similar exercise with wOBA and see if we come up with a different 2018 potential breakout group just for comparison"
   ]
  },
  {
   "cell_type": "code",
   "execution_count": 2,
   "metadata": {
    "collapsed": true
   },
   "outputs": [],
   "source": [
    "import pandas as pd\n",
    "import numpy as np\n",
    "from IPython.display import display\n",
    "import matplotlib.pyplot as plt\n",
    "import seaborn as sns\n",
    "pd.options.display.max_columns = None\n",
    "%matplotlib inline\n",
    "pd.set_option(\"display.max_rows\",500)"
   ]
  },
  {
   "cell_type": "code",
   "execution_count": 4,
   "metadata": {
    "collapsed": true
   },
   "outputs": [],
   "source": [
    "# read in rate_stats data\n",
    "rate_stats_2015 = pd.read_csv(\"C:/Users/avitosky/Documents/Baseball Project/rate_stats_2015.csv\")\n",
    "rate_stats_2016 = pd.read_csv(\"C:/Users/avitosky/Documents/Baseball Project/rate_stats_2016.csv\")\n",
    "rate_stats_2017 = pd.read_csv(\"C:/Users/avitosky/Documents/Baseball Project/rate_stats_2017.csv\")"
   ]
  },
  {
   "cell_type": "code",
   "execution_count": 5,
   "metadata": {
    "collapsed": false
   },
   "outputs": [
    {
     "data": {
      "text/plain": [
       "count    456.000000\n",
       "mean       0.120365\n",
       "std        0.027091\n",
       "min        0.044944\n",
       "25%        0.103436\n",
       "50%        0.120783\n",
       "75%        0.136999\n",
       "max        0.224299\n",
       "Name: R/PA, dtype: float64"
      ]
     },
     "execution_count": 5,
     "metadata": {},
     "output_type": "execute_result"
    }
   ],
   "source": [
    "# most highly correlated variable with 2017 wOBA is R/PA% so let's do the same exercise with that variable instead\n",
    "rate_stats_2017['R/PA'].describe()"
   ]
  },
  {
   "cell_type": "code",
   "execution_count": 7,
   "metadata": {
    "collapsed": false
   },
   "outputs": [
    {
     "ename": "SyntaxError",
     "evalue": "unexpected character after line continuation character (<ipython-input-7-e4bcc7e19a8f>, line 3)",
     "output_type": "error",
     "traceback": [
      "\u001b[0;36m  File \u001b[0;32m\"<ipython-input-7-e4bcc7e19a8f>\"\u001b[0;36m, line \u001b[0;32m3\u001b[0m\n\u001b[0;31m    rate_stats_2017_v4 = rate_stats_2017[(rate_stats_2017.R\\PA > 0.12) &\u001b[0m\n\u001b[0m                                                                         ^\u001b[0m\n\u001b[0;31mSyntaxError\u001b[0m\u001b[0;31m:\u001b[0m unexpected character after line continuation character\n"
     ]
    }
   ],
   "source": [
    "# now what if we look at R/PA compared to look at actual wOBA (this will bring back our speedy population)\n",
    "# not sure how to get \"R/PA\" to run in this scenario\n",
    "rate_stats_2017_v4 = rate_stats_2017[(rate_stats_2017.R/PA > 0.12) & \n",
    "                                     (rate_stats_2017.BA > 0.255) & (rate_stats_2017.OBP > 0.323)]"
   ]
  },
  {
   "cell_type": "code",
   "execution_count": null,
   "metadata": {
    "collapsed": true
   },
   "outputs": [],
   "source": []
  }
 ],
 "metadata": {
  "kernelspec": {
   "display_name": "Python 3",
   "language": "python",
   "name": "python3"
  },
  "language_info": {
   "codemirror_mode": {
    "name": "ipython",
    "version": 3
   },
   "file_extension": ".py",
   "mimetype": "text/x-python",
   "name": "python",
   "nbconvert_exporter": "python",
   "pygments_lexer": "ipython3",
   "version": "3.5.2"
  }
 },
 "nbformat": 4,
 "nbformat_minor": 2
}
